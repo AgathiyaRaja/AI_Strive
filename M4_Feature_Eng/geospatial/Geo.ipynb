{
 "cells": [
  {
   "cell_type": "code",
   "execution_count": 1,
   "id": "horizontal-local",
   "metadata": {},
   "outputs": [],
   "source": [
    "import numpy   as np\n",
    "import pandas  as pd\n",
    "import seaborn as sb\n",
    "import matplotlib.pyplot as plt\n",
    "%matplotlib inline\n",
    "#%matplotlib notebook\n",
    "\n",
    "from sklearn.preprocessing import LabelEncoder\n",
    "from sklearn.metrics       import mean_squared_error\n",
    "import lightgbm as lgb\n",
    "\n",
    "import gc\n",
    "import time\n",
    "\n",
    "from ipywidgets import interact"
   ]
  },
  {
   "cell_type": "code",
   "execution_count": 7,
   "id": "warming-output",
   "metadata": {},
   "outputs": [
    {
     "data": {
      "text/plain": [
       "Index(['shop_name', 'shop_id'], dtype='object')"
      ]
     },
     "execution_count": 7,
     "metadata": {},
     "output_type": "execute_result"
    }
   ],
   "source": [
    "shops = pd.read_csv('D:/Strive_school/AI_Strive/M4_Feature_Eng/geospatial/shops.csv')\n",
    "shops.columns"
   ]
  },
  {
   "cell_type": "code",
   "execution_count": 9,
   "id": "accepted-ready",
   "metadata": {},
   "outputs": [
    {
     "data": {
      "text/plain": [
       "0                    ! Yakutsk Ordzhonikidze, 56 francs\n",
       "1                           ! Yakutsk TC \"Central\" fran\n",
       "2                                      Adygea TC \"Mega\"\n",
       "3                       Balashikha TC \"Oktyabr-Kinomir\"\n",
       "4                                 Volga TC \"Volga Mall\"\n",
       "5                                Vologda SEC \"Marmelad\"\n",
       "6                         Voronezh (Plekhanovskaya, 13)\n",
       "7                               Voronezh SEC \"Maksimir\"\n",
       "8                         Voronezh SEC City-Park \"Grad\"\n",
       "9                                        Outbound Trade\n",
       "10                           Zhukovsky st. Chkalov 39m?\n",
       "11                           Zhukovsky st. Chkalov 39m²\n",
       "12                Internet-shop of emergency situations\n",
       "13                                   Kazan TC \"Behetle\"\n",
       "14                              Kazan TC \"ParkHouse\" II\n",
       "15                              Kaluga TC \"XXI century\"\n",
       "16                                     Kolomna TC \"Rio\"\n",
       "17                       Krasnoyarsk TC \"Vzletka Plaza\"\n",
       "18                                Krasnoyarsk TC \"June\"\n",
       "19                             Kursk TC \" Pushkinskiy \"\n",
       "20                                       Moscow\" Sale \"\n",
       "21                              Moscow MTRC\" Afi Mall \"\n",
       "22                                      Moscow Shop C21\n",
       "23                     Moscow TK\" Budenovskiy \"(pav.A2)\n",
       "24                     Moscow TK\" Budenovskiy \"(pav.K7)\n",
       "25                                 Moscow TEC\" Atrium \"\n",
       "26                        Moscow TTS\" Areal \"(Belyaevo)\n",
       "27                    Moscow TC\" MEGA Belaya Dacha II \"\n",
       "28                       Moscow TC\" MEGA Teply Stan \"II\n",
       "29                     Moscow TC\" New Age \"(Novokosino)\n",
       "30                               Moscow TC\" Perlovsky \"\n",
       "31                              Moscow TC\" Semenovsky \"\n",
       "32                        Moscow TC\" Serebryany House \"\n",
       "33                                Mytishchi SEC\" XL-3 \"\n",
       "34                                N.Novgorod SEC\" RIO \"\n",
       "35                            N.Novgorod SEC\" Fantasy \"\n",
       "36               Novosibirsk SEC\" Gallery Novosibirsk \"\n",
       "37                              Novosibirsk SEC\" Mega \"\n",
       "38                                      Omsk TC\" Mega \"\n",
       "39                 RostovNaDonu SEC\" Megacenter Horizon\n",
       "40     RostovNaDon Megatsentr Gorizont Ostrovnoy sho...\n",
       "41                     RostovNaDon Mega shopping center\n",
       "42         St. Petersburg Nevsky Center shopping center\n",
       "43               St. Petersburg Sennaya shopping center\n",
       "44                        Samara Melody shopping center\n",
       "45                     Samara ParkHouse shopping center\n",
       "46                    Sergiev Posad 7Ya shopping center\n",
       "47                               Surgut SEC \"City Mall\"\n",
       "48                             Tomsk SEC \"Emerald City\"\n",
       "49                                 Tyumen SEC \"Crystal\"\n",
       "50                                 Tyumen SEC \"Goodwin\"\n",
       "51                             Tyumen TC \"Green Coast \"\n",
       "52                                    Ufa TC\" Central \"\n",
       "53                                    Ufa TC\" Family \"2\n",
       "54                                    Khimki TC\" Mega \"\n",
       "55                          Digital warehouse 1C-Online\n",
       "56                               Chekhov TC\" Karnaval \"\n",
       "57                            Yakutsk Ordzhonikidze, 56\n",
       "58                                Yakutsk TC\" Central \"\n",
       "59                               Yaroslavl TC\" Altair \"\n",
       "Name: shop_name, dtype: object"
      ]
     },
     "execution_count": 9,
     "metadata": {},
     "output_type": "execute_result"
    }
   ],
   "source": [
    "shops['shop_name']"
   ]
  }
 ],
 "metadata": {
  "kernelspec": {
   "display_name": "Python 3",
   "language": "python",
   "name": "python3"
  },
  "language_info": {
   "codemirror_mode": {
    "name": "ipython",
    "version": 3
   },
   "file_extension": ".py",
   "mimetype": "text/x-python",
   "name": "python",
   "nbconvert_exporter": "python",
   "pygments_lexer": "ipython3",
   "version": "3.8.8"
  }
 },
 "nbformat": 4,
 "nbformat_minor": 5
}
