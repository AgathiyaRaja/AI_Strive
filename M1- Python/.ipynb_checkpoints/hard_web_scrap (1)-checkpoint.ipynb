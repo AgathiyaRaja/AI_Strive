{
 "cells": [
  {
   "cell_type": "code",
   "execution_count": null,
   "metadata": {
    "cell_id": "00000-d6d9ac8a-e1bd-4ed1-814a-51beb8244e3c",
    "deepnote_cell_type": "code",
    "deepnote_to_be_reexecuted": false,
    "execution_millis": 3537,
    "execution_start": 1616691493186,
    "source_hash": "6c3283c9",
    "tags": []
   },
   "outputs": [
    {
     "name": "stdout",
     "output_type": "stream",
     "text": [
      "Requirement already satisfied: bs4==0.0.1 in /root/venv/lib/python3.7/site-packages (0.0.1)\n",
      "Requirement already satisfied: beautifulsoup4 in /root/venv/lib/python3.7/site-packages (from bs4==0.0.1) (4.9.3)\n",
      "Requirement already satisfied: soupsieve>1.2; python_version >= \"3.0\" in /root/venv/lib/python3.7/site-packages (from beautifulsoup4->bs4==0.0.1) (2.2.1)\n",
      "\u001b[33mWARNING: You are using pip version 20.1.1; however, version 21.0.1 is available.\n",
      "You should consider upgrading via the '/root/venv/bin/python -m pip install --upgrade pip' command.\u001b[0m\n"
     ]
    }
   ],
   "source": [
    "!pip install bs4==0.0.1"
   ]
  },
  {
   "cell_type": "code",
   "execution_count": null,
   "metadata": {
    "cell_id": "00000-be5448d8-9de5-4054-bb96-d36775235a8e",
    "deepnote_cell_type": "code",
    "deepnote_to_be_reexecuted": false,
    "execution_millis": 61,
    "execution_start": 1616691496724,
    "source_hash": "f9013310",
    "tags": []
   },
   "outputs": [],
   "source": [
    "#Import the libraries\n",
    "\n",
    "from bs4 import BeautifulSoup\n",
    "import requests\n",
    "import numpy as np\n",
    "import pandas as pd\n",
    "import datetime\n",
    "from datetime import timedelta, date\n",
    "import re\n"
   ]
  },
  {
   "cell_type": "code",
   "execution_count": null,
   "metadata": {
    "cell_id": "00001-0131f0b7-7330-4a10-9116-e55445e34b95",
    "deepnote_cell_type": "code",
    "deepnote_to_be_reexecuted": false,
    "execution_millis": 891,
    "execution_start": 1616691496788,
    "source_hash": "c79711c8",
    "tags": []
   },
   "outputs": [],
   "source": [
    "#Get the webpage and parse it as html\n",
    "\n",
    "page = requests.get(\"https://weather.com/weather/tenday/l/San+Francisco+CA?canonicalCityId=dfdaba8cbe3a4d12a8796e1f7b1ccc7174b4b0a2d5ddb1c8566ae9f154fa638c\")\n",
    "soup = BeautifulSoup(page.content, 'html.parser')\n",
    "\n"
   ]
  },
  {
   "cell_type": "code",
   "execution_count": null,
   "metadata": {
    "cell_id": "00003-a356b9ed-d7d1-4403-ab62-f30b4c581396",
    "deepnote_cell_type": "code",
    "deepnote_to_be_reexecuted": false,
    "execution_millis": 3111,
    "execution_start": 1616691608912,
    "source_hash": "1478d2a8",
    "tags": []
   },
   "outputs": [
    {
     "name": "stdout",
     "output_type": "stream",
     "text": [
      "['Thu 25 | Day', 'Thu 25 | Night', 'Fri 26 | Day', 'Fri 26 | Night', 'Sat 27 | Day', 'Sat 27 | Night', 'Sun 28 | Day', 'Sun 28 | Night', 'Mon 29 | Day', 'Mon 29 | Night', 'Tue 30 | Day', 'Tue 30 | Night', 'Wed 31 | Day', 'Wed 31 | Night', 'Thu 01 | Day', 'Thu 01 | Night', 'Fri 02 | Day', 'Fri 02 | Night', 'Sat 03 | Day', 'Sat 03 | Night', 'Sun 04 | Day', 'Sun 04 | Night', 'Mon 05 | Day', 'Mon 05 | Night', 'Tue 06 | Day', 'Tue 06 | Night', 'Wed 07 | Day', 'Wed 07 | Night', 'Thu 08 | Day', 'Thu 08 | Night']\n"
     ]
    }
   ],
   "source": [
    "#Retrieve the day names nested in body \n",
    "\n",
    "day_names = soup.find_all('h3', class_ = 'DailyContent--daypartName--3G5Y8') #day names are in this tag\n",
    "\n",
    "list_of_days = []\n",
    "for each_day in day_names:\n",
    "    e = each_day.text                #'.text' returns the text inside the Tag\n",
    "    list_of_days.append(e)\n",
    "    \n",
    "list_of_days = list_of_days[0:30]\n",
    "print((list_of_days))"
   ]
  },
  {
   "cell_type": "code",
   "execution_count": null,
   "metadata": {
    "cell_id": "00004-98698962-e2fa-4692-bef2-b0f8d5f30304",
    "deepnote_cell_type": "code",
    "deepnote_to_be_reexecuted": false,
    "execution_millis": 23,
    "execution_start": 1616691497711,
    "source_hash": "e230d137",
    "tags": []
   },
   "outputs": [
    {
     "name": "stdout",
     "output_type": "stream",
     "text": [
      "30\n",
      "The Day tempeatures are ['58', '65', '66', '63', '60', '67', '71', '71', '66', '61', '60', '59', '59', '59', '59']\n",
      "The Night temperatures are ['47', '44', '46', '47', '47', '50', '50', '49', '47', '46', '45', '46', '45', '45', '45']\n"
     ]
    }
   ],
   "source": [
    "#Retrieve the weather summary nested inside the body and find temperatures\n",
    "\n",
    "day_temp = soup.find_all('div', class_ = 'DetailsSummary--temperature--3FMlw') \n",
    "\n",
    "temp_list = []\n",
    "for summary in day_temp:\n",
    "    e = summary.text              \n",
    "    temp_list.append(e)\n",
    "\n",
    "temp_string = ' '.join(temp_list)            \n",
    "temp = re.findall(\"([0-9]\\d[°])\", temp_string)      \n",
    "temp = ' '.join(temp).replace('°',' ').split()  \n",
    "print(len(temp))      \n",
    "\n",
    "high = temp[0::2]\n",
    "low = temp[1::2]\n",
    "\n",
    "print(\"The Day tempeatures are\", high)\n",
    "print(f'The Night temperatures are {low}')\n"
   ]
  },
  {
   "cell_type": "code",
   "execution_count": null,
   "metadata": {
    "cell_id": "00005-d1c833f3-57d3-4da7-87f6-576890e61608",
    "deepnote_cell_type": "code",
    "deepnote_to_be_reexecuted": false,
    "execution_millis": 25,
    "execution_start": 1616691548814,
    "source_hash": "d04a1a5f",
    "tags": []
   },
   "outputs": [
    {
     "name": "stdout",
     "output_type": "stream",
     "text": [
      "30\n"
     ]
    }
   ],
   "source": [
    "#Extracting the summary description\n",
    "summary = soup.find_all('p', class_ = 'DailyContent--narrative--3AcXd')\n",
    "\n",
    "summary_list = []\n",
    "for summary in summary:\n",
    "    e = summary.text              \n",
    "    summary_list.append(e)\n",
    "\n",
    "print(len(summary_list))\n",
    "\n"
   ]
  },
  {
   "cell_type": "code",
   "execution_count": null,
   "metadata": {
    "cell_id": "00006-94c05eb6-2e14-4b0c-9a35-64d4641b5833",
    "deepnote_cell_type": "code",
    "deepnote_to_be_reexecuted": false,
    "execution_millis": 7,
    "execution_start": 1616691497790,
    "source_hash": "c6a7766d",
    "tags": []
   },
   "outputs": [
    {
     "data": {
      "text/plain": [
       "['14 °C',\n",
       " '8 °C',\n",
       " '18 °C',\n",
       " '7 °C',\n",
       " '19 °C',\n",
       " '8 °C',\n",
       " '17 °C',\n",
       " '8 °C',\n",
       " '16 °C',\n",
       " '8 °C',\n",
       " '19 °C',\n",
       " '10 °C',\n",
       " '22 °C',\n",
       " '10 °C',\n",
       " '22 °C',\n",
       " '9 °C',\n",
       " '19 °C',\n",
       " '8 °C',\n",
       " '16 °C',\n",
       " '8 °C',\n",
       " '16 °C',\n",
       " '7 °C',\n",
       " '15 °C',\n",
       " '8 °C',\n",
       " '15 °C',\n",
       " '7 °C',\n",
       " '15 °C',\n",
       " '7 °C',\n",
       " '15 °C',\n",
       " '7 °C']"
      ]
     },
     "execution_count": 7,
     "metadata": {},
     "output_type": "execute_result"
    }
   ],
   "source": [
    "#Temp here\n",
    "#Convert Fahrenheit to celcius \n",
    "temp_celcius = []\n",
    "def celcius(temp):\n",
    "    for each_temp in temp:\n",
    "        each_temp = (int(each_temp)- 32) * (5/9)         #converting to int type as it gives an error for float\n",
    "        new_temp = round(each_temp)\n",
    "        temp_celcius.append(f'{new_temp} °C')\n",
    "    return temp_celcius\n",
    "celcius(temp)"
   ]
  },
  {
   "cell_type": "code",
   "execution_count": null,
   "metadata": {
    "cell_id": "00007-1a79665a-0da5-4c24-b746-4087ef70e0d9",
    "deepnote_cell_type": "code",
    "deepnote_to_be_reexecuted": false,
    "execution_millis": 1017,
    "execution_start": 1616691611018,
    "source_hash": "db685f2",
    "tags": []
   },
   "outputs": [
    {
     "name": "stdout",
     "output_type": "stream",
     "text": [
      "               Day Temperature  \\\n",
      "0     Thu 25 | Day          58   \n",
      "1   Thu 25 | Night          47   \n",
      "2     Fri 26 | Day          65   \n",
      "3   Fri 26 | Night          44   \n",
      "4     Sat 27 | Day          66   \n",
      "5   Sat 27 | Night          46   \n",
      "6     Sun 28 | Day          63   \n",
      "7   Sun 28 | Night          47   \n",
      "8     Mon 29 | Day          60   \n",
      "9   Mon 29 | Night          47   \n",
      "10    Tue 30 | Day          67   \n",
      "11  Tue 30 | Night          50   \n",
      "12    Wed 31 | Day          71   \n",
      "13  Wed 31 | Night          50   \n",
      "14    Thu 01 | Day          71   \n",
      "15  Thu 01 | Night          49   \n",
      "16    Fri 02 | Day          66   \n",
      "17  Fri 02 | Night          47   \n",
      "18    Sat 03 | Day          61   \n",
      "19  Sat 03 | Night          46   \n",
      "20    Sun 04 | Day          60   \n",
      "21  Sun 04 | Night          45   \n",
      "22    Mon 05 | Day          59   \n",
      "23  Mon 05 | Night          46   \n",
      "24    Tue 06 | Day          59   \n",
      "25  Tue 06 | Night          45   \n",
      "26    Wed 07 | Day          59   \n",
      "27  Wed 07 | Night          45   \n",
      "28    Thu 08 | Day          59   \n",
      "29  Thu 08 | Night          45   \n",
      "\n",
      "                                              summary  \n",
      "0   Mostly sunny skies. Becoming windy late. High ...  \n",
      "1   Clear skies. Low 47F. NW winds at 10 to 20 mph...  \n",
      "2   Mainly sunny. High around 65F. Winds NNW at 10...  \n",
      "3     Clear skies. Low 44F. Winds SW at 10 to 15 mph.  \n",
      "4   Sunny. High near 65F. ESE winds shifting to W ...  \n",
      "5     Mostly clear. Low 46F. Winds SW at 5 to 10 mph.  \n",
      "6   A few clouds from time to time. High 63F. Wind...  \n",
      "7   Mostly clear skies. Low 47F. Winds W at 10 to ...  \n",
      "8   Mainly sunny. High near 60F. Winds WNW at 15 t...  \n",
      "9   A mostly clear sky. Low 47F. Winds NNW at 10 t...  \n",
      "10  A mainly sunny sky. High 67F. Winds NNW at 10 ...  \n",
      "11  Clear skies. Low near 50F. Winds N at 10 to 15...  \n",
      "12  Mainly sunny. High 71F. Winds NNE at 10 to 15 ...  \n",
      "13  Clear skies. Low near 50F. Winds N at 5 to 10 ...  \n",
      "14  Mostly sunny skies. High 71F. NE winds shiftin...  \n",
      "15  A mostly clear sky. Low 49F. Winds W at 5 to 1...  \n",
      "16  Mostly sunny skies. High 66F. Winds WNW at 10 ...  \n",
      "17  Partly cloudy skies. Low 47F. Winds W at 10 to...  \n",
      "18  Sunshine and clouds mixed. High 61F. Winds W a...  \n",
      "19  Partly cloudy. Low around 45F. Winds WNW at 10...  \n",
      "20  Sun and a few passing clouds. High near 60F. W...  \n",
      "21  Clear skies with a few passing clouds. Low aro...  \n",
      "22  Intervals of clouds and sunshine. High 59F. Wi...  \n",
      "23   Partly cloudy. Low 46F. Winds W at 10 to 20 mph.  \n",
      "24  Intervals of clouds and sunshine. High 59F. Wi...  \n",
      "25  Partly cloudy. Low near 45F. Winds W at 10 to ...  \n",
      "26  Partly cloudy skies. High 58F. Winds W at 15 t...  \n",
      "27  Partly cloudy skies early followed by mostly c...  \n",
      "28  Partly cloudy skies. High 59F. Winds W at 10 t...  \n",
      "29  Cloudy with a few showers. Low around 45F. Win...  \n"
     ]
    }
   ],
   "source": [
    "#creating the dataf\n",
    "df = pd.DataFrame({'Day':list_of_days, 'Temperature':temp,\n",
    "                   'summary':summary_list}) \n",
    "print(df)\n",
    "\n",
    "#df.to_csv('Weather_forecast_easy.csv', index=False)"
   ]
  },
  {
   "cell_type": "markdown",
   "metadata": {
    "created_in_deepnote_cell": true,
    "deepnote_cell_type": "markdown",
    "tags": []
   },
   "source": [
    "<a style='text-decoration:none;line-height:16px;display:flex;color:#5B5B62;padding:10px;justify-content:end;' href='https://deepnote.com?utm_source=created-in-deepnote-cell&projectId=4b76008c-93f2-488a-b8d9-c179cb7406d1' target=\"_blank\">\n",
    "<img style='display:inline;max-height:16px;margin:0px;margin-right:7.5px;' src='data:image/svg+xml;base64,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' > </img>\n",
    "Created in <span style='font-weight:600;margin-left:4px;'>Deepnote</span></a>"
   ]
  }
 ],
 "metadata": {
  "deepnote": {},
  "deepnote_execution_queue": [],
  "deepnote_notebook_id": "f734bdcd-dfeb-4a43-9478-afd9ce048361",
  "kernelspec": {
   "display_name": "Python 3",
   "language": "python",
   "name": "python3"
  },
  "language_info": {
   "codemirror_mode": {
    "name": "ipython",
    "version": 3
   },
   "file_extension": ".py",
   "mimetype": "text/x-python",
   "name": "python",
   "nbconvert_exporter": "python",
   "pygments_lexer": "ipython3",
   "version": "3.8.8"
  }
 },
 "nbformat": 4,
 "nbformat_minor": 2
}
